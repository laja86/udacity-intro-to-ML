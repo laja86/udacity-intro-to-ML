{
 "cells": [
  {
   "cell_type": "markdown",
   "metadata": {},
   "source": [
    "## Sidenotes (definitions, code snippets, resources, etc.)\n",
    "- Note on data structure: list\n",
    "    - empty list has a truth value of false\n",
    "- [Feature Selection with scikit-learn for intro_to_ml](http://napitupulu-jon.appspot.com/posts/feature-selection-ud120.html)\n",
    "    - Looks very helpful for copying notes, course materials\n",
    "    - Investigate meaning of `# %%writefile new_enron_feature.py` inserted at top of edited studentMain.py module\n",
    "\n",
    "### Useful Python 2 Code Snippets\n",
    "```python\n",
    "### there can be many \"to\" emails, but only one \"from\", so the\n",
    "### \"to\" processing needs to be a little more complicated\n",
    "# uses counter for iterating through, duplicates process for cc_emails\n",
    "#   does not seem very pythonic, but maybe clearest method\n",
    "if to_emails:\n",
    "    ctr = 0  # counter for iterating through, perhaps not pythonic\n",
    "    while not to_poi and ctr < len(to_emails):\n",
    "        if to_emails[ctr] in poi_email_list:\n",
    "            to_poi = True\n",
    "        ctr += 1\n",
    "```\n",
    "\n",
    "### Useful git code snippets\n",
    "- `git reset --soft HEAD~`\n",
    "    - Leaves working tree as it was before git commit\n",
    "\n",
    "\n",
    "### Techniques\n",
    "\n",
    "\n",
    "### IPython functions\n"
   ]
  },
  {
   "cell_type": "markdown",
   "metadata": {},
   "source": [
    "## Why Feature Selection?\n",
    "\"Make everything as simple as possible, but no simpler\" - Albert Einstein\n",
    "\n",
    "Two major things aspects:\n",
    "1. Select best features, leaving out unecessary data\n",
    "- Adding new features to explore data, using intuition"
   ]
  },
  {
   "cell_type": "markdown",
   "metadata": {},
   "source": [
    "### Coding up a new feature (with Enron data example)\n",
    "Process that Katie uses:\n",
    "- Use her human intuition\n",
    "    - Quiz 1: POIs might send other POIs emails more often than the general population\n",
    "    - Quiz 2: Feature scaling might provide more useful visualization\n",
    "- Code up the new feature \n",
    "    - Quiz 1: Calculate aggregate of emails sent from POIs to each person\n",
    "    - Quiz 2: \n",
    "- Visualize\n",
    "    - Quiz 1: See scatter plot below to check whether feature gives discriminating power between POIs and non-POIs.\n",
    "- Repeat\n",
    "    - Improve preceeding parts of process\n",
    "    - Zero in onn  the feature that would be most helpful\n",
    "    \n",
    "__Visualizations:__\n",
    "\n",
    "_Quiz 1:_\n",
    "![quiz1 scatterplot](lesson_11_images/quiz1_scatter.png)\n"
   ]
  }
 ],
 "metadata": {
  "kernelspec": {
   "display_name": "Python 2",
   "language": "python",
   "name": "python2"
  },
  "language_info": {
   "codemirror_mode": {
    "name": "ipython",
    "version": 2
   },
   "file_extension": ".py",
   "mimetype": "text/x-python",
   "name": "python",
   "nbconvert_exporter": "python",
   "pygments_lexer": "ipython2",
   "version": "2.7.11"
  }
 },
 "nbformat": 4,
 "nbformat_minor": 0
}
