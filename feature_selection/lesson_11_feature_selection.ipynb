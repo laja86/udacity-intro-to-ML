{
 "cells": [
  {
   "cell_type": "markdown",
   "metadata": {},
   "source": [
    "## Sidenotes (definitions, code snippets, resources, etc.)\n",
    "__definition__: deprecated vs. obsolete\n",
    "- _deprecated_: a status applied to software features to indicate that they should be avoided, typically because they have been superseded. \n",
    "    - Features are rather deprecated rather than removed in order to provide backward compatibility, giving programmers who have used the feature time to bring their code into compliance with the new standard.\n",
    "- _obsolete_: Obsolete features are those deemed redundant and are highly likely to be discontinued in the next few releases.\n",
    "\n",
    "### Useful Python 2 Code Snippets\n",
    "- `raise SystemExit(0)` used to stop python script (like break but outside loop)\n",
    "\n",
    "\n",
    "### Techniques\n",
    "`temp_counter` applied in vectorize_text.py, in original file.\n",
    "- limits processing to subset of dataset\n",
    "- useful in development stage so modifications can be done more quickly\n",
    "- remove when working to run through whole dataset\n",
    "\n",
    "### IPython functions\n"
   ]
  }
 ],
 "metadata": {
  "kernelspec": {
   "display_name": "Python 2",
   "language": "python",
   "name": "python2"
  },
  "language_info": {
   "codemirror_mode": {
    "name": "ipython",
    "version": 2
   },
   "file_extension": ".py",
   "mimetype": "text/x-python",
   "name": "python",
   "nbconvert_exporter": "python",
   "pygments_lexer": "ipython2",
   "version": "2.7.11"
  }
 },
 "nbformat": 4,
 "nbformat_minor": 0
}
