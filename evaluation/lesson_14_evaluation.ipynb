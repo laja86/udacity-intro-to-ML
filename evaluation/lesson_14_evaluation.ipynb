{
 "cells": [
  {
   "cell_type": "markdown",
   "metadata": {},
   "source": [
    "## Sidenotes (definitions, code snippets, resources, etc.)\n",
    "- Note on data structure: list\n",
    "    - empty list has a truth value of false\n",
    "- [Feature Selection with scikit-learn for intro_to_ml](http://napitupulu-jon.appspot.com/posts/feature-selection-ud120.html)\n",
    "    - Looks very helpful for copying notes, course materials\n",
    "    - Investigate meaning of `# %%writefile new_enron_feature.py` inserted at top of edited studentMain.py module\n",
    "\n",
    "### Latex\n",
    "To use Python to display Latex equations etc.:\n",
    "```python\n",
    "from IPython.display import display, Math, Latex\n",
    "display(Math(r'F(k) = \\int_{-\\infty}^{\\infty} f(x) e^{2\\pi i k} dx'))\n",
    "```\n",
    "\n",
    "\n",
    "### ML Order of Operations\n",
    "![order of operations](lesson_13_images/ml_order_of_operations.png)\n",
    "\n",
    "### Python 3 change\n",
    "- From Python 3.3, dict keys are iterating through in a random order for each iteration (will alter GridSearchCV's output).\n",
    "    - See note with validation mini-project for info on coverting code from 2.7 to 3.3.\n",
    "\n",
    "\n",
    "### Python 2\n",
    "```python\n",
    "### there can be many \"to\" emails, but only one \"from\", so the\n",
    "### \"to\" processing needs to be a little more complicated\n",
    "# uses counter for iterating through, duplicates process for cc_emails\n",
    "#   does not seem very pythonic, but maybe clearest method\n",
    "if to_emails:\n",
    "    ctr = 0  # counter for iterating through, perhaps not pythonic\n",
    "    while not to_poi and ctr < len(to_emails):\n",
    "        if to_emails[ctr] in poi_email_list:\n",
    "            to_poi = True\n",
    "        ctr += 1\n",
    "```\n",
    "\n",
    "### Useful git code snippets\n",
    "- `git reset --soft HEAD~`\n",
    "    - Leaves working tree as it was before git commit"
   ]
  },
  {
   "cell_type": "markdown",
   "metadata": {},
   "source": [
    "# Evaluation Metrics\n",
    "## Accuracy\n",
    "__formula:__ \n",
    "\n",
    "$\\text{accuracy} = \\frac{\\text{no. of data points labeled corrected}}{ \\text{all data points}}$\n",
    "\n",
    "Shortcoming of accuracy measurement:\n",
    "- Not good for skewed classes (i.e. most of the data under one label)\n",
    "    - because demoninator will be small, so measurement not trustworthy\n",
    "- Not suited to particular labeling requirements i.e. need to err on one label over the other.\n",
    "    - different performance metrics can focus on different types of errors (false positives, false negatives).\n",
    "    \n",
    "## Confusion Matrices\n",
    "Exmaple of Confusion Matrix analysis with Decision Tree:\n",
    "![confusion matrix example](lesson_14_images/confusion_matrix_example.png)\n",
    "\n",
    "__formulas:__ \n",
    "- $\\text{Recall(x)} = \\frac{\\text{data points correctly labeled as x}}{ \\text{total data points actually x}} = \\frac{\\text{true positives}}{ \\text{false negatives + true positives}}$\n",
    "    - i.e. the probability of the data point being correctly labeled as x\n",
    "    - i.e. that when the alg assigns a label on data point with actual label x, that data point is actually x\n",
    "    - i.e. its saying its not, when in fact it is\n",
    "- $\\text{Precision(x)} = \\frac{\\text{data points correctly labeled as x}}{ \\text{total data points labeled x}} = \\frac{\\text{true positives}}{ \\text{false positives + true positives}}$\n",
    "    - i.e. the probability of the label being correctly assigned\n",
    "    - that when the alg assigns label x, that that data point is actually x\n",
    "    - i.e. it's saying it is, when in fact its not"
   ]
  },
  {
   "cell_type": "code",
   "execution_count": null,
   "metadata": {
    "collapsed": true
   },
   "outputs": [],
   "source": []
  },
  {
   "cell_type": "markdown",
   "metadata": {},
   "source": [
    "- To get the names :\n",
    "<pre>\n",
    "```python\n",
    "for name in vars().keys():\n",
    "      print(name)\n",
    "```\n",
    "</pre>\n",
    "- To get the values:\n",
    "```python\n",
    "for value in vars().values():\n",
    "      print(value)\n",
    "```"
   ]
  },
  {
   "cell_type": "code",
   "execution_count": null,
   "metadata": {
    "collapsed": true
   },
   "outputs": [],
   "source": []
  }
 ],
 "metadata": {
  "kernelspec": {
   "display_name": "Python 2",
   "language": "python",
   "name": "python2"
  },
  "language_info": {
   "codemirror_mode": {
    "name": "ipython",
    "version": 2
   },
   "file_extension": ".py",
   "mimetype": "text/x-python",
   "name": "python",
   "nbconvert_exporter": "python",
   "pygments_lexer": "ipython2",
   "version": "2.7.11"
  }
 },
 "nbformat": 4,
 "nbformat_minor": 0
}
